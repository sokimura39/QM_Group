{
 "cells": [
  {
   "cell_type": "code",
   "execution_count": null,
   "id": "9f2c81b4-e210-4592-bc96-f138dbf5656e",
   "metadata": {},
   "outputs": [],
   "source": [
    "import pandas as pd\n",
    "import matplotlib.pyplot as plt"
   ]
  },
  {
   "cell_type": "code",
   "execution_count": null,
   "id": "33658ae1-131c-4294-877a-daedd9072eb7",
   "metadata": {},
   "outputs": [],
   "source": [
    "frequency = df['Weather'].value_counts()\n",
    "percentage = df['Weather'].value_counts(normalize=True) * 100\n",
    "print(frequency)\n",
    "print(percentage)"
   ]
  },
  {
   "cell_type": "code",
   "execution_count": null,
   "id": "009dddef-0890-447d-b716-de459a0ce9e7",
   "metadata": {},
   "outputs": [],
   "source": [
    "plt.figure(figsize=(12, 6))\n",
    "plt.plot(average_cycling_count.index, average_cycling_count.values)\n",
    "plt.gca().xaxis.set_major_locator(ticker.MultipleLocator(10))\n",
    "plt.title('Average Cycling Count')\n",
    "plt.xlabel('Time')\n",
    "plt.ylabel('Average Cycling Count')\n",
    "plt.show()"
   ]
  },
  {
   "cell_type": "code",
   "execution_count": null,
   "id": "5db080a7-70fe-4bee-8c2b-752cd551ba23",
   "metadata": {},
   "outputs": [],
   "source": [
    "average_cycling_count_df['Time'] = pd.to_datetime(average_cycling_count_df['Time'])"
   ]
  }
 ],
 "metadata": {
  "kernelspec": {
   "display_name": "Python 3 (ipykernel)",
   "language": "python",
   "name": "python3"
  },
  "language_info": {
   "codemirror_mode": {
    "name": "ipython",
    "version": 3
   },
   "file_extension": ".py",
   "mimetype": "text/x-python",
   "name": "python",
   "nbconvert_exporter": "python",
   "pygments_lexer": "ipython3",
   "version": "3.11.5"
  }
 },
 "nbformat": 4,
 "nbformat_minor": 5
}
